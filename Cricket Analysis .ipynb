{
 "cells": [
  {
   "cell_type": "markdown",
   "id": "ac2ccdf5",
   "metadata": {},
   "source": [
    "## Problem Statement: Find the best 11 players based on the T20 world cup 2022 data"
   ]
  },
  {
   "cell_type": "markdown",
   "id": "36947a86",
   "metadata": {},
   "source": [
    "### Requirements:\n",
    "1. The Team should score atleats 180 runs on an average \n",
    "2. The Team should be able to defend at least 150 runs on an average \n"
   ]
  },
  {
   "cell_type": "markdown",
   "id": "7e8a7bda",
   "metadata": {},
   "source": [
    "### Openers : 2 players\n",
    "|Parameters|Description|criteria|\n",
    "|---|---|---|\n",
    "|Batting Average|Average Runs scored in an innings|>30|\n",
    "|Strike Rate|No. of runs scored per 100 balls|>140|\n",
    "|Innings batted|Total number of innings batted|>3|\n",
    "|Boundary % | % of runs scored in boundaries | >50|\n",
    "|Batting Position| Orden at which they play| <4|"
   ]
  },
  {
   "cell_type": "markdown",
   "id": "8824b6e6",
   "metadata": {},
   "source": [
    "### Middle Order : 3 players\n",
    "|Parameters|Description|criteria|\n",
    "|---|---|---|\n",
    "|Batting Average|Average Runs scored in an innings|>40|\n",
    "|Strike Rate|No. of runs scored per 100 balls|>125|\n",
    "|Innings batted|Total number of innings batted|>3|\n",
    "|Avg balls faced | Average balls faced by the batter in a innings | >20|\n",
    "|Batting Position| Orden at which they play| >2|"
   ]
  },
  {
   "cell_type": "markdown",
   "id": "d5c7dc3a",
   "metadata": {},
   "source": [
    "### Finishers : 1 player\n",
    "|Parameters|Description|criteria|\n",
    "|---|---|---|\n",
    "|Batting Average|Average Runs scored in an innings|>25|\n",
    "|Strike Rate|No. of runs scored per 100 balls|>130|\n",
    "|Innings batted|Total number of innings batted|>3|\n",
    "|Avg balls faced | Average balls faced by the batter in a innings | >12|\n",
    "|Batting Position| Orden at which they play| >4|\n",
    "|Innings bowled|Total innings bowled by the bowler|>1|"
   ]
  },
  {
   "cell_type": "markdown",
   "id": "f4687a02",
   "metadata": {},
   "source": [
    "### Lower Order : 2 players\n",
    "|Parameters|Description|criteria|\n",
    "|---|---|---|\n",
    "|Batting Average|Average Runs scored in an innings|>15|\n",
    "|Strike Rate|No. of runs scored per 100 balls|>140|\n",
    "|Innings batted|Total number of innings batted|>2|\n",
    "|Batting Position| Orden at which they play| >4|\n",
    "|Innings bowled|Total innings bowled by the bowler|>2|\n",
    "|Bowling economy |Average runs per over| < 7|\n",
    "|Bowling strike rate|Average no. of balls required to take a wicket|<20|\n",
    "\n"
   ]
  },
  {
   "cell_type": "markdown",
   "id": "d2bc7591",
   "metadata": {},
   "source": [
    "### Specilised fast bowlers\n",
    "|Parameters|Description|criteria|\n",
    "|---|---|---|\n",
    "|Innings bowled|Total innings bowled by the bowler|>4|\n",
    "|Bowling economy |Average runs per over| < 7|\n",
    "|Bowling strike rate|Average no. of balls required to take a wicket|<16|\n",
    "|Bowling Style|Bowling style of the player|Fast|\n",
    "|Bowling Average|Average Runs per wicket|<20|\n",
    "|Dot ball %|% of dot balls|>40%|\n"
   ]
  },
  {
   "cell_type": "markdown",
   "id": "b6967439",
   "metadata": {},
   "source": [
    "# Solution: "
   ]
  },
  {
   "cell_type": "markdown",
   "id": "a90cd1ec",
   "metadata": {},
   "source": [
    "Extracting data from [ESPN website](https://www.espncricinfo.com/records/season/team-match-results/2022to23-2022to23?trophy=89) using [Power Automate](https://www.youtube.com/watch?v=DgBZiBIgh3w)"
   ]
  },
  {
   "cell_type": "markdown",
   "id": "3714525b",
   "metadata": {},
   "source": [
    "As the Data Collection is done we are ready with 4 CSV sheets filled with data which we're gonna prepare for our analysis"
   ]
  },
  {
   "cell_type": "markdown",
   "id": "ec419185",
   "metadata": {},
   "source": [
    "## Match Summary"
   ]
  },
  {
   "cell_type": "code",
   "execution_count": 9,
   "id": "b1d24a80",
   "metadata": {},
   "outputs": [],
   "source": [
    "import pandas as pd"
   ]
  },
  {
   "cell_type": "code",
   "execution_count": 15,
   "id": "14510e5e",
   "metadata": {},
   "outputs": [
    {
     "data": {
      "text/html": [
       "<div>\n",
       "<style scoped>\n",
       "    .dataframe tbody tr th:only-of-type {\n",
       "        vertical-align: middle;\n",
       "    }\n",
       "\n",
       "    .dataframe tbody tr th {\n",
       "        vertical-align: top;\n",
       "    }\n",
       "\n",
       "    .dataframe thead th {\n",
       "        text-align: right;\n",
       "    }\n",
       "</style>\n",
       "<table border=\"1\" class=\"dataframe\">\n",
       "  <thead>\n",
       "    <tr style=\"text-align: right;\">\n",
       "      <th></th>\n",
       "      <th>team1</th>\n",
       "      <th>team2</th>\n",
       "      <th>winner</th>\n",
       "      <th>margin</th>\n",
       "      <th>ground</th>\n",
       "      <th>matchDate</th>\n",
       "      <th>scorecard</th>\n",
       "    </tr>\n",
       "  </thead>\n",
       "  <tbody>\n",
       "    <tr>\n",
       "      <th>0</th>\n",
       "      <td>Namibia</td>\n",
       "      <td>Sri Lanka</td>\n",
       "      <td>Namibia</td>\n",
       "      <td>55 runs</td>\n",
       "      <td>Geelong</td>\n",
       "      <td>Oct 16, 2022</td>\n",
       "      <td>T20I # 1823</td>\n",
       "    </tr>\n",
       "    <tr>\n",
       "      <th>1</th>\n",
       "      <td>Netherlands</td>\n",
       "      <td>U.A.E.</td>\n",
       "      <td>Netherlands</td>\n",
       "      <td>3 wickets</td>\n",
       "      <td>Geelong</td>\n",
       "      <td>Oct 16, 2022</td>\n",
       "      <td>T20I # 1825</td>\n",
       "    </tr>\n",
       "    <tr>\n",
       "      <th>2</th>\n",
       "      <td>Scotland</td>\n",
       "      <td>West Indies</td>\n",
       "      <td>Scotland</td>\n",
       "      <td>42 runs</td>\n",
       "      <td>Hobart</td>\n",
       "      <td>Oct 17, 2022</td>\n",
       "      <td>T20I # 1826</td>\n",
       "    </tr>\n",
       "    <tr>\n",
       "      <th>3</th>\n",
       "      <td>Ireland</td>\n",
       "      <td>Zimbabwe</td>\n",
       "      <td>Zimbabwe</td>\n",
       "      <td>31 runs</td>\n",
       "      <td>Hobart</td>\n",
       "      <td>Oct 17, 2022</td>\n",
       "      <td>T20I # 1828</td>\n",
       "    </tr>\n",
       "    <tr>\n",
       "      <th>4</th>\n",
       "      <td>Namibia</td>\n",
       "      <td>Netherlands</td>\n",
       "      <td>Netherlands</td>\n",
       "      <td>5 wickets</td>\n",
       "      <td>Geelong</td>\n",
       "      <td>Oct 18, 2022</td>\n",
       "      <td>T20I # 1830</td>\n",
       "    </tr>\n",
       "  </tbody>\n",
       "</table>\n",
       "</div>"
      ],
      "text/plain": [
       "         team1        team2       winner     margin   ground     matchDate  \\\n",
       "0      Namibia    Sri Lanka      Namibia    55 runs  Geelong  Oct 16, 2022   \n",
       "1  Netherlands       U.A.E.  Netherlands  3 wickets  Geelong  Oct 16, 2022   \n",
       "2     Scotland  West Indies     Scotland    42 runs   Hobart  Oct 17, 2022   \n",
       "3      Ireland     Zimbabwe     Zimbabwe    31 runs   Hobart  Oct 17, 2022   \n",
       "4      Namibia  Netherlands  Netherlands  5 wickets  Geelong  Oct 18, 2022   \n",
       "\n",
       "     scorecard  \n",
       "0  T20I # 1823  \n",
       "1  T20I # 1825  \n",
       "2  T20I # 1826  \n",
       "3  T20I # 1828  \n",
       "4  T20I # 1830  "
      ]
     },
     "execution_count": 15,
     "metadata": {},
     "output_type": "execute_result"
    }
   ],
   "source": [
    "file_path_match_summary = pd.read_csv(r\"C:\\Users\\Yash Rajput\\Desktop\\Projects\\End To End Cricket Data Analytics Project Using Web Scraping, Python, Pandas and Power BI\\t20_csv_files\\dim_match_summary.csv\")\n",
    "df_match_summary = pd.DataFrame(file_path_match_summary)\n",
    "df_match_summary.head()"
   ]
  },
  {
   "cell_type": "code",
   "execution_count": 8,
   "id": "25677360",
   "metadata": {},
   "outputs": [
    {
     "data": {
      "text/plain": [
       "(45, 7)"
      ]
     },
     "execution_count": 8,
     "metadata": {},
     "output_type": "execute_result"
    }
   ],
   "source": [
    "df.shape"
   ]
  },
  {
   "cell_type": "code",
   "execution_count": 13,
   "id": "bb031238",
   "metadata": {},
   "outputs": [
    {
     "data": {
      "text/html": [
       "<div>\n",
       "<style scoped>\n",
       "    .dataframe tbody tr th:only-of-type {\n",
       "        vertical-align: middle;\n",
       "    }\n",
       "\n",
       "    .dataframe tbody tr th {\n",
       "        vertical-align: top;\n",
       "    }\n",
       "\n",
       "    .dataframe thead th {\n",
       "        text-align: right;\n",
       "    }\n",
       "</style>\n",
       "<table border=\"1\" class=\"dataframe\">\n",
       "  <thead>\n",
       "    <tr style=\"text-align: right;\">\n",
       "      <th></th>\n",
       "      <th>team1</th>\n",
       "      <th>team2</th>\n",
       "      <th>winner</th>\n",
       "      <th>margin</th>\n",
       "      <th>ground</th>\n",
       "      <th>matchDate</th>\n",
       "      <th>scorecard</th>\n",
       "    </tr>\n",
       "  </thead>\n",
       "  <tbody>\n",
       "    <tr>\n",
       "      <th>0</th>\n",
       "      <td>Namibia</td>\n",
       "      <td>Sri Lanka</td>\n",
       "      <td>Namibia</td>\n",
       "      <td>55 runs</td>\n",
       "      <td>Geelong</td>\n",
       "      <td>Oct 16, 2022</td>\n",
       "      <td>T20I # 1823</td>\n",
       "    </tr>\n",
       "    <tr>\n",
       "      <th>1</th>\n",
       "      <td>Netherlands</td>\n",
       "      <td>U.A.E.</td>\n",
       "      <td>Netherlands</td>\n",
       "      <td>3 wickets</td>\n",
       "      <td>Geelong</td>\n",
       "      <td>Oct 16, 2022</td>\n",
       "      <td>T20I # 1825</td>\n",
       "    </tr>\n",
       "    <tr>\n",
       "      <th>2</th>\n",
       "      <td>Scotland</td>\n",
       "      <td>West Indies</td>\n",
       "      <td>Scotland</td>\n",
       "      <td>42 runs</td>\n",
       "      <td>Hobart</td>\n",
       "      <td>Oct 17, 2022</td>\n",
       "      <td>T20I # 1826</td>\n",
       "    </tr>\n",
       "    <tr>\n",
       "      <th>3</th>\n",
       "      <td>Ireland</td>\n",
       "      <td>Zimbabwe</td>\n",
       "      <td>Zimbabwe</td>\n",
       "      <td>31 runs</td>\n",
       "      <td>Hobart</td>\n",
       "      <td>Oct 17, 2022</td>\n",
       "      <td>T20I # 1828</td>\n",
       "    </tr>\n",
       "    <tr>\n",
       "      <th>4</th>\n",
       "      <td>Namibia</td>\n",
       "      <td>Netherlands</td>\n",
       "      <td>Netherlands</td>\n",
       "      <td>5 wickets</td>\n",
       "      <td>Geelong</td>\n",
       "      <td>Oct 18, 2022</td>\n",
       "      <td>T20I # 1830</td>\n",
       "    </tr>\n",
       "  </tbody>\n",
       "</table>\n",
       "</div>"
      ],
      "text/plain": [
       "         team1        team2       winner     margin   ground     matchDate  \\\n",
       "0      Namibia    Sri Lanka      Namibia    55 runs  Geelong  Oct 16, 2022   \n",
       "1  Netherlands       U.A.E.  Netherlands  3 wickets  Geelong  Oct 16, 2022   \n",
       "2     Scotland  West Indies     Scotland    42 runs   Hobart  Oct 17, 2022   \n",
       "3      Ireland     Zimbabwe     Zimbabwe    31 runs   Hobart  Oct 17, 2022   \n",
       "4      Namibia  Netherlands  Netherlands  5 wickets  Geelong  Oct 18, 2022   \n",
       "\n",
       "     scorecard  \n",
       "0  T20I # 1823  \n",
       "1  T20I # 1825  \n",
       "2  T20I # 1826  \n",
       "3  T20I # 1828  \n",
       "4  T20I # 1830  "
      ]
     },
     "execution_count": 13,
     "metadata": {},
     "output_type": "execute_result"
    }
   ],
   "source": [
    "#Treating scorecard as key to link other tables \n",
    "df.rename({'scorecard':'match_id'})\n",
    "df.head()"
   ]
  },
  {
   "cell_type": "markdown",
   "id": "7f7f5d86",
   "metadata": {},
   "source": [
    "## Batting Summary"
   ]
  },
  {
   "cell_type": "code",
   "execution_count": 16,
   "id": "b65f5da5",
   "metadata": {},
   "outputs": [
    {
     "ename": "ValueError",
     "evalue": "DataFrame constructor not properly called!",
     "output_type": "error",
     "traceback": [
      "\u001b[1;31m---------------------------------------------------------------------------\u001b[0m",
      "\u001b[1;31mValueError\u001b[0m                                Traceback (most recent call last)",
      "Cell \u001b[1;32mIn[16], line 2\u001b[0m\n\u001b[0;32m      1\u001b[0m file_path_batting_summary \u001b[38;5;241m=\u001b[39m \u001b[38;5;124mr\u001b[39m\u001b[38;5;124m\"\u001b[39m\u001b[38;5;124mC:\u001b[39m\u001b[38;5;124m\\\u001b[39m\u001b[38;5;124mUsers\u001b[39m\u001b[38;5;124m\\\u001b[39m\u001b[38;5;124mYash Rajput\u001b[39m\u001b[38;5;124m\\\u001b[39m\u001b[38;5;124mDesktop\u001b[39m\u001b[38;5;124m\\\u001b[39m\u001b[38;5;124mProjects\u001b[39m\u001b[38;5;124m\\\u001b[39m\u001b[38;5;124mEnd To End Cricket Data Analytics Project Using Web Scraping, Python, Pandas and Power BI\u001b[39m\u001b[38;5;124m\\\u001b[39m\u001b[38;5;124mt20_csv_files\u001b[39m\u001b[38;5;124m\\\u001b[39m\u001b[38;5;124mfact_bating_summary.csv\u001b[39m\u001b[38;5;124m\"\u001b[39m\n\u001b[1;32m----> 2\u001b[0m df_batting_summary \u001b[38;5;241m=\u001b[39m \u001b[43mpd\u001b[49m\u001b[38;5;241;43m.\u001b[39;49m\u001b[43mDataFrame\u001b[49m\u001b[43m(\u001b[49m\u001b[43mfile_path_batting_summary\u001b[49m\u001b[43m)\u001b[49m\n\u001b[0;32m      3\u001b[0m df_batting_summary\u001b[38;5;241m.\u001b[39mhead()\n",
      "File \u001b[1;32m~\\anaconda3\\lib\\site-packages\\pandas\\core\\frame.py:781\u001b[0m, in \u001b[0;36mDataFrame.__init__\u001b[1;34m(self, data, index, columns, dtype, copy)\u001b[0m\n\u001b[0;32m    778\u001b[0m \u001b[38;5;66;03m# For data is scalar\u001b[39;00m\n\u001b[0;32m    779\u001b[0m \u001b[38;5;28;01melse\u001b[39;00m:\n\u001b[0;32m    780\u001b[0m     \u001b[38;5;28;01mif\u001b[39;00m index \u001b[38;5;129;01mis\u001b[39;00m \u001b[38;5;28;01mNone\u001b[39;00m \u001b[38;5;129;01mor\u001b[39;00m columns \u001b[38;5;129;01mis\u001b[39;00m \u001b[38;5;28;01mNone\u001b[39;00m:\n\u001b[1;32m--> 781\u001b[0m         \u001b[38;5;28;01mraise\u001b[39;00m \u001b[38;5;167;01mValueError\u001b[39;00m(\u001b[38;5;124m\"\u001b[39m\u001b[38;5;124mDataFrame constructor not properly called!\u001b[39m\u001b[38;5;124m\"\u001b[39m)\n\u001b[0;32m    783\u001b[0m     index \u001b[38;5;241m=\u001b[39m ensure_index(index)\n\u001b[0;32m    784\u001b[0m     columns \u001b[38;5;241m=\u001b[39m ensure_index(columns)\n",
      "\u001b[1;31mValueError\u001b[0m: DataFrame constructor not properly called!"
     ]
    }
   ],
   "source": [
    "file_path_batting_summary = r\"C:\\Users\\Yash Rajput\\Desktop\\Projects\\End To End Cricket Data Analytics Project Using Web Scraping, Python, Pandas and Power BI\\t20_csv_files\\fact_bating_summary.csv\"\n",
    "df_batting_summary = pd.DataFrame(file_path_batting_summary)\n",
    "df_batting_summary.head()"
   ]
  },
  {
   "cell_type": "code",
   "execution_count": null,
   "id": "7ad037a0",
   "metadata": {},
   "outputs": [],
   "source": []
  }
 ],
 "metadata": {
  "kernelspec": {
   "display_name": "Python 3 (ipykernel)",
   "language": "python",
   "name": "python3"
  },
  "language_info": {
   "codemirror_mode": {
    "name": "ipython",
    "version": 3
   },
   "file_extension": ".py",
   "mimetype": "text/x-python",
   "name": "python",
   "nbconvert_exporter": "python",
   "pygments_lexer": "ipython3",
   "version": "3.10.9"
  }
 },
 "nbformat": 4,
 "nbformat_minor": 5
}
